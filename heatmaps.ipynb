{
 "cells": [
  {
   "cell_type": "code",
   "execution_count": null,
   "id": "2b91456a-4b35-4b0d-afc5-eae6dcef19d6",
   "metadata": {},
   "outputs": [],
   "source": [
    "import pandas as pd\n",
    "import os\n",
    "import numpy as np\n",
    "import seaborn as sns\n",
    "import matplotlib.pyplot as plt"
   ]
  },
  {
   "cell_type": "code",
   "execution_count": null,
   "id": "311e15b8-4445-4b38-835b-a610fab619e2",
   "metadata": {},
   "outputs": [],
   "source": [
    "cidade = 'brasilia'\n",
    "lista_arquivos = os.listdir('MYs/')"
   ]
  },
  {
   "cell_type": "code",
   "execution_count": null,
   "id": "775cede6-48fd-44c1-ab85-f9452e9e373d",
   "metadata": {},
   "outputs": [],
   "source": [
    "df = pd.DataFrame()\n",
    "for filename in lista_arquivos:\n",
    "    if filename.endswith(\".epw\"): \n",
    "        df_temp = pd.read_csv(f\"MYs/{filename}\", sep=',', skiprows=8, header=None)\n",
    "        df = pd.concat([df,df_temp])\n",
    "        continue\n",
    "    else:\n",
    "        continue"
   ]
  },
  {
   "cell_type": "code",
   "execution_count": null,
   "id": "97318fa6-fc2a-4147-a121-2850a972d791",
   "metadata": {},
   "outputs": [],
   "source": [
    "df.to_csv('all_MYs.csv', index=False)"
   ]
  },
  {
   "cell_type": "code",
   "execution_count": null,
   "id": "9bbe8ed2-7e01-4682-ba77-859047c22899",
   "metadata": {},
   "outputs": [],
   "source": [
    "all_MYs = pd.read_csv('all_MYs.csv')\n",
    "all_MYs.head()"
   ]
  },
  {
   "cell_type": "code",
   "execution_count": null,
   "id": "d7e41f56-d297-4502-87ca-d178a8e5573f",
   "metadata": {},
   "outputs": [],
   "source": [
    "all_MYs['1'] = all_MYs['1'].map(\"{:02}\".format)\n",
    "all_MYs['2'] = all_MYs['2'].map(\"{:02}\".format)\n",
    "all_MYs['3'] = all_MYs['3'].map(\"{:02}\".format)\n",
    "\n",
    "all_MYs['3'] = all_MYs['3'].replace(['24'],'00')\n",
    "\n",
    "all_MYs['35'] = all_MYs['0'].map(str)+'-'+all_MYs['1'].map(str)+'-'+all_MYs['2'].map(str)+' '+all_MYs['3'].map(str)+':00:00'"
   ]
  },
  {
   "cell_type": "code",
   "execution_count": null,
   "id": "594bc234-c00f-4a69-b017-c40d435ec0d9",
   "metadata": {},
   "outputs": [],
   "source": [
    "all_MYs['35'] = pd.to_datetime(all_MYs['35'], format = \"%Y/%m/%d %H:%M:%S\")"
   ]
  },
  {
   "cell_type": "code",
   "execution_count": null,
   "id": "b2868bdf-48fb-41c7-b3fc-13eadc94d749",
   "metadata": {},
   "outputs": [],
   "source": [
    "month_MYs = pd.DataFrame()\n",
    "month_MYs['TBS_mean'] = all_MYs.groupby(pd.PeriodIndex(all_MYs['35'], freq=\"M\"))['6'].mean()\n",
    "month_MYs['TBS_median'] = all_MYs.groupby(pd.PeriodIndex(all_MYs['35'], freq=\"M\"))['6'].median()\n",
    "month_MYs['TBS_max'] = all_MYs.groupby(pd.PeriodIndex(all_MYs['35'], freq=\"M\"))['6'].max()\n",
    "month_MYs['TBS_min'] = all_MYs.groupby(pd.PeriodIndex(all_MYs['35'], freq=\"M\"))['6'].min()\n",
    "month_MYs['GHI_mean'] = all_MYs.groupby(pd.PeriodIndex(all_MYs['35'], freq=\"M\"))['13'].mean()\n",
    "month_MYs['GHI_median'] = all_MYs.groupby(pd.PeriodIndex(all_MYs['35'], freq=\"M\"))['13'].median()\n",
    "month_MYs['GHI_max'] = all_MYs.groupby(pd.PeriodIndex(all_MYs['35'], freq=\"M\"))['13'].max()\n",
    "month_MYs['GHI_min'] = all_MYs.groupby(pd.PeriodIndex(all_MYs['35'], freq=\"M\"))['13'].min()\n",
    "month_MYs['RH_mean'] = all_MYs.groupby(pd.PeriodIndex(all_MYs['35'], freq=\"M\"))['8'].mean()\n",
    "month_MYs['RH_median'] = all_MYs.groupby(pd.PeriodIndex(all_MYs['35'], freq=\"M\"))['8'].median()\n",
    "month_MYs['RH_max'] = all_MYs.groupby(pd.PeriodIndex(all_MYs['35'], freq=\"M\"))['8'].max()\n",
    "month_MYs['RH_min'] = all_MYs.groupby(pd.PeriodIndex(all_MYs['35'], freq=\"M\"))['8'].min()\n",
    "month_MYs.reset_index(level=0, inplace=True)\n",
    "month_MYs = month_MYs.rename({'35': 'timeperiod'}, axis='columns')\n",
    "month_MYs['year'] = month_MYs['timeperiod'].dt.year\n",
    "month_MYs['month'] = month_MYs['timeperiod'].dt.month\n",
    "month_MYs.head()"
   ]
  },
  {
   "cell_type": "code",
   "execution_count": null,
   "id": "88c784ea-aa62-486d-ba33-1ac52cc17eb0",
   "metadata": {},
   "outputs": [],
   "source": [
    "month_TBS_mean = month_MYs.pivot(\"month\", \"year\", \"TBS_mean\")\n",
    "month_TBS_mean.head()"
   ]
  },
  {
   "cell_type": "code",
   "execution_count": null,
   "id": "74ba300e",
   "metadata": {},
   "outputs": [],
   "source": [
    "month_RH_mean = month_MYs.pivot(\"month\", \"year\", \"RH_mean\")\n",
    "month_RH_mean.head()"
   ]
  },
  {
   "cell_type": "code",
   "execution_count": null,
   "id": "6addec6f",
   "metadata": {},
   "outputs": [],
   "source": [
    "month_RH_median = month_MYs.pivot(\"month\", \"year\", \"RH_median\")\n",
    "month_RH_median.head()"
   ]
  },
  {
   "cell_type": "code",
   "execution_count": null,
   "id": "569b967e",
   "metadata": {},
   "outputs": [],
   "source": [
    "#mean relative humidity\n",
    "\n",
    "sns.set(font_scale=1.8)\n",
    "plt.figure(figsize=(30,6))\n",
    "g = sns.heatmap(month_RH_mean, annot=False, cmap='crest', cbar_kws = dict(use_gridspec=False,location=\"top\"))\n",
    "plt.xticks(rotation=90)\n",
    "\n",
    "fig = g.get_figure()\n",
    "fig.savefig(cidade +'_heatmap_RH_month_mean_bs2023.png', bbox_inches='tight', dpi=300) "
   ]
  },
  {
   "cell_type": "code",
   "execution_count": null,
   "id": "65d3f09d",
   "metadata": {},
   "outputs": [],
   "source": [
    "#median relative humidity\n",
    "\n",
    "sns.set(font_scale=1.8)\n",
    "plt.figure(figsize=(30,6))\n",
    "g = sns.heatmap(month_RH_median, annot=False, cmap='crest', cbar_kws = dict(use_gridspec=False,location=\"top\"))\n",
    "plt.xticks(rotation=90)\n",
    "\n",
    "fig = g.get_figure()\n",
    "fig.savefig(cidade +'_heatmap_RH_month_median_bs2023.png', bbox_inches='tight', dpi=300) "
   ]
  },
  {
   "cell_type": "code",
   "execution_count": null,
   "id": "a47529b5",
   "metadata": {},
   "outputs": [],
   "source": [
    "#mean dry-bulb temperature\n",
    "\n",
    "sns.set(font_scale=1.8)\n",
    "\n",
    "plt.figure(figsize=(30,6))\n",
    "g = sns.heatmap(month_TBS_mean, annot=False, cbar_kws = dict(use_gridspec=False,location=\"top\"))\n",
    "plt.xticks(rotation=90)\n",
    "\n",
    "fig = g.get_figure()\n",
    "fig.savefig(cidade +'_heatmap_TBS_month_mean_bs2023.png', bbox_inches='tight', dpi=300) "
   ]
  },
  {
   "cell_type": "code",
   "execution_count": null,
   "id": "589602ef",
   "metadata": {},
   "outputs": [],
   "source": [
    "#maximum dry-bulb temperature\n",
    "\n",
    "sns.set(font_scale=1.8)\n",
    "month_TBS_max = month_MYs.pivot(\"month\", \"year\", \"TBS_max\")\n",
    "\n",
    "plt.figure(figsize=(30,6))\n",
    "g = sns.heatmap(month_TBS_max, annot=False, cbar_kws = dict(use_gridspec=False,location=\"top\"))\n",
    "plt.xticks(rotation=90)\n",
    "\n",
    "fig = g.get_figure()\n",
    "fig.savefig(cidade +'_heatmap_TBS_month_max_bs2023.png', bbox_inches='tight', dpi=300) "
   ]
  }
 ],
 "metadata": {
  "kernelspec": {
   "display_name": "Python 3 (ipykernel)",
   "language": "python",
   "name": "python3"
  },
  "language_info": {
   "codemirror_mode": {
    "name": "ipython",
    "version": 3
   },
   "file_extension": ".py",
   "mimetype": "text/x-python",
   "name": "python",
   "nbconvert_exporter": "python",
   "pygments_lexer": "ipython3",
   "version": "3.8.8"
  },
  "vscode": {
   "interpreter": {
    "hash": "9a3b07ba528c89038647187279d5e29ba231df4ea6aa016e93723a294652464d"
   }
  }
 },
 "nbformat": 4,
 "nbformat_minor": 5
}
